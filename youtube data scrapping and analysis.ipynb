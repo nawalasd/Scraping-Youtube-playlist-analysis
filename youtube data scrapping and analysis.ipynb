{
 "cells": [
  {
   "cell_type": "markdown",
   "metadata": {},
   "source": [
    "## Project Overview : \n",
    "\n",
    "* Extracted data from a YouTube playlist using the YouTube API 🔍.\n",
    "* Transformed, organized, and processed the dataset using Python's Pandas library 🐍.\n",
    "* Cleaned the data to make it more organized 🧹.\n",
    "* Visualized the processed data using Power BI 📊.\n",
    "* Created custom reports and dashboards with ease using Power BI's user-friendly interface 📈"
   ]
  },
  {
   "cell_type": "markdown",
   "metadata": {},
   "source": [
    "## Task for youtube web scrapping : \n",
    "\n",
    " >1. Get the playlist id of Sandeep maheshwari youtube channel playlist \"Meet Your Favourite YouTuber!\"\n",
    " >2. Get all the videoIds of SM playlist\n",
    " >3. Get title,date,views,like,comments,duration of each video\n",
    " >4. Cleaning the Data set for Analysis.\n",
    "\n",
    " "
   ]
  },
  {
   "cell_type": "code",
   "execution_count": null,
   "metadata": {},
   "outputs": [],
   "source": [
    "# Installation  of google api library\n",
    "pip install google-api-python-client"
   ]
  },
  {
   "cell_type": "code",
   "execution_count": 4,
   "metadata": {},
   "outputs": [],
   "source": [
    "#import libraries : \n",
    "\n",
    "from googleapiclient.discovery import build\n",
    "import pandas as pd\n",
    "import seaborn as sns\n",
    "import matplotlib.pyplot as plt"
   ]
  },
  {
   "cell_type": "code",
   "execution_count": 5,
   "metadata": {},
   "outputs": [],
   "source": [
    "# private api key\n",
    "api_key = \"AIzaSyDhwAAo91fu-L9_5lhWBYW3K5q8I\" #private api key\n",
    "\n",
    "#We need to create the service. : Construct a Resource for interacting with an API.\n",
    "\n",
    "youtube = build(\"youtube\",\"v3\",developerKey= api_key)"
   ]
  },
  {
   "cell_type": "markdown",
   "metadata": {},
   "source": [
    "### Task 1.  Extracting video IDs from playlist ID "
   ]
  },
  {
   "cell_type": "code",
   "execution_count": 6,
   "metadata": {},
   "outputs": [],
   "source": [
    "#playlist ID of Meet Your Favourite YouTuber!\n",
    "playlist_id = \"PLWc1yfTYfqNGR7ZTyxTjGv7xOJIGZKe8O\"\n",
    "\n",
    "\n",
    "#function to get all video id of playlist\n",
    "def get_video_id_from_playlist(youtube,playlist_id) :\n",
    "    \n",
    "    request = youtube.playlistItems().list(part= \"snippet,contentDetails\",\n",
    "                                                  maxResults=50,\n",
    "                                                  playlistId=playlist_id)\n",
    "                                                 \n",
    "    response = request.execute()\n",
    "    \n",
    "    playlist_data = []\n",
    "    for i in range(len(response['items'])) : \n",
    "        eachvideo_id  = dict(title = response['items'][i]['snippet']['title'],\n",
    "                        video_id = response['items'][i]['contentDetails']['videoId'])\n",
    "        \n",
    "        playlist_data.append(eachvideo_id)\n",
    "        \n",
    "    next_page_token = response.get('nextPageToken')\n",
    "    more_pages = True\n",
    "    \n",
    "    while more_pages == True : \n",
    "        if next_page_token is None : #if there is no page left\n",
    "            more_pages = False\n",
    "        \n",
    "        else : \n",
    "            request = youtube.playlistItems().list(part= \"snippet,contentDetails\",\n",
    "                                                  maxResults=50,\n",
    "                                                  playlistId=playlist_id,\n",
    "                                                  pageToken = next_page_token)\n",
    "                                                 \n",
    "            response = request.execute()\n",
    "        \n",
    "            for i in range(len(response['items'])) : \n",
    "                eachvideo_id  = dict(title = response['items'][i]['snippet']['title'],\n",
    "                                     video_id = response['items'][i]['contentDetails']['videoId'])\n",
    "                playlist_data.append(eachvideo_id)\n",
    "              \n",
    "            # store next page\n",
    "            next_page_token = response.get('nextPageToken')\n",
    "                \n",
    "            \n",
    "            \n",
    "        \n",
    "\n",
    "    return playlist_data\n",
    "\n",
    "\n",
    "\n",
    "\n",
    "\n",
    "playlist_data = get_video_id_from_playlist(youtube,playlist_id)"
   ]
  },
  {
   "cell_type": "code",
   "execution_count": 7,
   "metadata": {},
   "outputs": [
    {
     "data": {
      "text/plain": [
       "[{'title': 'Meet Raft Motors Founders | Episode 81',\n",
       "  'video_id': 'ejXrmLMNXSg'},\n",
       " {'title': 'Meet Groww Founder Lalit Keshre | Episode 80',\n",
       "  'video_id': 'ju49EpQazLA'},\n",
       " {'title': 'Meet Entrepreneur Pramod Raj Shukla | Episode 79',\n",
       "  'video_id': 'ywzowpv1w7E'},\n",
       " {'title': 'Meet Shradha Sharma YourStory Founder | Episode 78',\n",
       "  'video_id': '1aS8u6LQfvc'},\n",
       " {'title': 'Meet Ridhima Arora Namhya Foods Founder | Episode 77',\n",
       "  'video_id': 'tJX1-YxU6AE'}]"
      ]
     },
     "execution_count": 7,
     "metadata": {},
     "output_type": "execute_result"
    }
   ],
   "source": [
    "#printing first 5 rows : \n",
    "playlist_data[:5]"
   ]
  },
  {
   "cell_type": "code",
   "execution_count": 8,
   "metadata": {},
   "outputs": [
    {
     "data": {
      "text/html": [
       "<div>\n",
       "<style scoped>\n",
       "    .dataframe tbody tr th:only-of-type {\n",
       "        vertical-align: middle;\n",
       "    }\n",
       "\n",
       "    .dataframe tbody tr th {\n",
       "        vertical-align: top;\n",
       "    }\n",
       "\n",
       "    .dataframe thead th {\n",
       "        text-align: right;\n",
       "    }\n",
       "</style>\n",
       "<table border=\"1\" class=\"dataframe\">\n",
       "  <thead>\n",
       "    <tr style=\"text-align: right;\">\n",
       "      <th></th>\n",
       "      <th>title</th>\n",
       "      <th>video_id</th>\n",
       "    </tr>\n",
       "  </thead>\n",
       "  <tbody>\n",
       "    <tr>\n",
       "      <th>0</th>\n",
       "      <td>Meet Raft Motors Founders | Episode 81</td>\n",
       "      <td>ejXrmLMNXSg</td>\n",
       "    </tr>\n",
       "    <tr>\n",
       "      <th>1</th>\n",
       "      <td>Meet Groww Founder Lalit Keshre | Episode 80</td>\n",
       "      <td>ju49EpQazLA</td>\n",
       "    </tr>\n",
       "    <tr>\n",
       "      <th>2</th>\n",
       "      <td>Meet Entrepreneur Pramod Raj Shukla | Episode 79</td>\n",
       "      <td>ywzowpv1w7E</td>\n",
       "    </tr>\n",
       "    <tr>\n",
       "      <th>3</th>\n",
       "      <td>Meet Shradha Sharma YourStory Founder | Episod...</td>\n",
       "      <td>1aS8u6LQfvc</td>\n",
       "    </tr>\n",
       "    <tr>\n",
       "      <th>4</th>\n",
       "      <td>Meet Ridhima Arora Namhya Foods Founder | Epis...</td>\n",
       "      <td>tJX1-YxU6AE</td>\n",
       "    </tr>\n",
       "  </tbody>\n",
       "</table>\n",
       "</div>"
      ],
      "text/plain": [
       "                                               title     video_id\n",
       "0             Meet Raft Motors Founders | Episode 81  ejXrmLMNXSg\n",
       "1       Meet Groww Founder Lalit Keshre | Episode 80  ju49EpQazLA\n",
       "2   Meet Entrepreneur Pramod Raj Shukla | Episode 79  ywzowpv1w7E\n",
       "3  Meet Shradha Sharma YourStory Founder | Episod...  1aS8u6LQfvc\n",
       "4  Meet Ridhima Arora Namhya Foods Founder | Epis...  tJX1-YxU6AE"
      ]
     },
     "execution_count": 8,
     "metadata": {},
     "output_type": "execute_result"
    }
   ],
   "source": [
    "# Saving dictionary into Dataframe : \n",
    "\n",
    "\n",
    "playlist_table = pd.DataFrame(playlist_data)\n",
    "\n",
    "#printing first 5 rows of Dataset : \n",
    "playlist_table.head(5)"
   ]
  },
  {
   "cell_type": "code",
   "execution_count": 9,
   "metadata": {},
   "outputs": [
    {
     "name": "stdout",
     "output_type": "stream",
     "text": [
      "<class 'pandas.core.frame.DataFrame'>\n",
      "RangeIndex: 82 entries, 0 to 81\n",
      "Data columns (total 2 columns):\n",
      " #   Column    Non-Null Count  Dtype \n",
      "---  ------    --------------  ----- \n",
      " 0   title     82 non-null     object\n",
      " 1   video_id  82 non-null     object\n",
      "dtypes: object(2)\n",
      "memory usage: 1.4+ KB\n"
     ]
    }
   ],
   "source": [
    "playlist_table.info() # total 82 guests came"
   ]
  },
  {
   "cell_type": "markdown",
   "metadata": {},
   "source": [
    "### Task 2  Extracting video contents from each video ID"
   ]
  },
  {
   "cell_type": "code",
   "execution_count": 10,
   "metadata": {},
   "outputs": [],
   "source": [
    "# list of all video IDs \n",
    "video_ids = list(playlist_table['video_id'])\n",
    "\n",
    "\n",
    "all_video_data = []\n",
    "    \n",
    "\n",
    "#function to get videos details of each video ID\n",
    "def get_video_details_from_video_id(youtube,video_ids) : \n",
    "    \n",
    "    \n",
    "    for k in range(0,len(video_ids),50) : \n",
    "        request = youtube.videos().list(\n",
    "                                        part=\"snippet,contentDetails,statistics\",\n",
    "                                        id= ','.join(video_ids[k : k + 50]) # max limit accesing ids is 50\n",
    "                                       )\n",
    "        response = request.execute()\n",
    "    \n",
    "        for i in range(len(response['items'])) : \n",
    "            each_video_data = dict(video_title = response['items'][i]['snippet']['title'],\n",
    "                 publish_date = response['items'][i]['snippet']['publishedAt'],\n",
    "                 duration = response['items'][i]['contentDetails']['duration'],\n",
    "                 total_views = response['items'][i]['statistics']['viewCount'],\n",
    "                 total_likes = response['items'][i]['statistics']['likeCount'],\n",
    "                 total_comment = response['items'][i]['statistics']['commentCount'])\n",
    "\n",
    "            all_video_data.append(each_video_data)\n",
    "    \n",
    "    \n",
    "    return all_video_data\n",
    "\n",
    "\n",
    "\n",
    "\n",
    "all_videos_data_dict = get_video_details_from_video_id(youtube,video_ids)\n"
   ]
  },
  {
   "cell_type": "code",
   "execution_count": 231,
   "metadata": {},
   "outputs": [
    {
     "data": {
      "text/plain": [
       "[{'video_title': 'Meet Raft Motors Founders | Episode 81',\n",
       "  'publish_date': '2023-01-25T08:05:13Z',\n",
       "  'duration': 'PT26M29S',\n",
       "  'total_views': '318868',\n",
       "  'total_likes': '19021',\n",
       "  'total_comment': '2134'},\n",
       " {'video_title': 'Meet Groww Founder Lalit Keshre | Episode 80',\n",
       "  'publish_date': '2023-01-19T10:38:33Z',\n",
       "  'duration': 'PT16M45S',\n",
       "  'total_views': '588282',\n",
       "  'total_likes': '31804',\n",
       "  'total_comment': '3814'},\n",
       " {'video_title': 'Meet Entrepreneur Pramod Raj Shukla | Episode 79',\n",
       "  'publish_date': '2023-01-16T07:58:13Z',\n",
       "  'duration': 'PT22M16S',\n",
       "  'total_views': '514631',\n",
       "  'total_likes': '27631',\n",
       "  'total_comment': '4782'},\n",
       " {'video_title': 'Meet Shradha Sharma YourStory Founder | Episode 78',\n",
       "  'publish_date': '2023-01-12T12:32:23Z',\n",
       "  'duration': 'PT21M55S',\n",
       "  'total_views': '585720',\n",
       "  'total_likes': '32782',\n",
       "  'total_comment': '2599'},\n",
       " {'video_title': 'Meet Ridhima Arora Namhya Foods Founder | Episode 77',\n",
       "  'publish_date': '2023-01-10T13:19:51Z',\n",
       "  'duration': 'PT17M20S',\n",
       "  'total_views': '724183',\n",
       "  'total_likes': '35038',\n",
       "  'total_comment': '2461'}]"
      ]
     },
     "execution_count": 231,
     "metadata": {},
     "output_type": "execute_result"
    }
   ],
   "source": [
    "#printing first 5 rows \n",
    "all_videos_data_dict[:5]"
   ]
  },
  {
   "cell_type": "code",
   "execution_count": 11,
   "metadata": {},
   "outputs": [
    {
     "name": "stdout",
     "output_type": "stream",
     "text": [
      "Done !!! We sucessfully scrap all the playlist video details !! \n"
     ]
    },
    {
     "data": {
      "text/html": [
       "<div>\n",
       "<style scoped>\n",
       "    .dataframe tbody tr th:only-of-type {\n",
       "        vertical-align: middle;\n",
       "    }\n",
       "\n",
       "    .dataframe tbody tr th {\n",
       "        vertical-align: top;\n",
       "    }\n",
       "\n",
       "    .dataframe thead th {\n",
       "        text-align: right;\n",
       "    }\n",
       "</style>\n",
       "<table border=\"1\" class=\"dataframe\">\n",
       "  <thead>\n",
       "    <tr style=\"text-align: right;\">\n",
       "      <th></th>\n",
       "      <th>video_title</th>\n",
       "      <th>publish_date</th>\n",
       "      <th>duration</th>\n",
       "      <th>total_views</th>\n",
       "      <th>total_likes</th>\n",
       "      <th>total_comment</th>\n",
       "    </tr>\n",
       "  </thead>\n",
       "  <tbody>\n",
       "    <tr>\n",
       "      <th>0</th>\n",
       "      <td>Meet Raft Motors Founders | Episode 81</td>\n",
       "      <td>2023-01-25T08:05:13Z</td>\n",
       "      <td>PT26M29S</td>\n",
       "      <td>371269</td>\n",
       "      <td>20934</td>\n",
       "      <td>2787</td>\n",
       "    </tr>\n",
       "    <tr>\n",
       "      <th>1</th>\n",
       "      <td>Meet Groww Founder Lalit Keshre | Episode 80</td>\n",
       "      <td>2023-01-19T10:38:33Z</td>\n",
       "      <td>PT16M45S</td>\n",
       "      <td>605815</td>\n",
       "      <td>32431</td>\n",
       "      <td>3840</td>\n",
       "    </tr>\n",
       "    <tr>\n",
       "      <th>2</th>\n",
       "      <td>Meet Entrepreneur Pramod Raj Shukla | Episode 79</td>\n",
       "      <td>2023-01-16T07:58:13Z</td>\n",
       "      <td>PT22M16S</td>\n",
       "      <td>522231</td>\n",
       "      <td>27875</td>\n",
       "      <td>4796</td>\n",
       "    </tr>\n",
       "    <tr>\n",
       "      <th>3</th>\n",
       "      <td>Meet Shradha Sharma YourStory Founder | Episod...</td>\n",
       "      <td>2023-01-12T12:32:23Z</td>\n",
       "      <td>PT21M55S</td>\n",
       "      <td>597991</td>\n",
       "      <td>33351</td>\n",
       "      <td>2620</td>\n",
       "    </tr>\n",
       "    <tr>\n",
       "      <th>4</th>\n",
       "      <td>Meet Ridhima Arora Namhya Foods Founder | Epis...</td>\n",
       "      <td>2023-01-10T13:19:51Z</td>\n",
       "      <td>PT17M20S</td>\n",
       "      <td>730348</td>\n",
       "      <td>35226</td>\n",
       "      <td>2471</td>\n",
       "    </tr>\n",
       "  </tbody>\n",
       "</table>\n",
       "</div>"
      ],
      "text/plain": [
       "                                         video_title          publish_date  \\\n",
       "0             Meet Raft Motors Founders | Episode 81  2023-01-25T08:05:13Z   \n",
       "1       Meet Groww Founder Lalit Keshre | Episode 80  2023-01-19T10:38:33Z   \n",
       "2   Meet Entrepreneur Pramod Raj Shukla | Episode 79  2023-01-16T07:58:13Z   \n",
       "3  Meet Shradha Sharma YourStory Founder | Episod...  2023-01-12T12:32:23Z   \n",
       "4  Meet Ridhima Arora Namhya Foods Founder | Epis...  2023-01-10T13:19:51Z   \n",
       "\n",
       "   duration total_views total_likes total_comment  \n",
       "0  PT26M29S      371269       20934          2787  \n",
       "1  PT16M45S      605815       32431          3840  \n",
       "2  PT22M16S      522231       27875          4796  \n",
       "3  PT21M55S      597991       33351          2620  \n",
       "4  PT17M20S      730348       35226          2471  "
      ]
     },
     "execution_count": 11,
     "metadata": {},
     "output_type": "execute_result"
    }
   ],
   "source": [
    "#Converting in to Data frame\n",
    "videos_table = pd.DataFrame(all_videos_data_dict)\n",
    "\n",
    "# printing first 5 rows of data\n",
    "\n",
    "\n",
    "\n",
    "print('Done !!! We sucessfully scrap all the playlist video details !! ')\n",
    "videos_table.head()"
   ]
  },
  {
   "cell_type": "markdown",
   "metadata": {},
   "source": [
    "## Task 3 Data cleaning : "
   ]
  },
  {
   "cell_type": "markdown",
   "metadata": {},
   "source": [
    "### 1.  Arranging videos from earliest to latest : "
   ]
  },
  {
   "cell_type": "code",
   "execution_count": 12,
   "metadata": {},
   "outputs": [],
   "source": [
    "videos_table = videos_table[::-1].reset_index(drop = True).iloc[1:]"
   ]
  },
  {
   "cell_type": "markdown",
   "metadata": {},
   "source": [
    "### 2.  Basics overview of data set : \n"
   ]
  },
  {
   "cell_type": "code",
   "execution_count": 13,
   "metadata": {},
   "outputs": [
    {
     "name": "stdout",
     "output_type": "stream",
     "text": [
      "<class 'pandas.core.frame.DataFrame'>\n",
      "RangeIndex: 81 entries, 1 to 81\n",
      "Data columns (total 6 columns):\n",
      " #   Column         Non-Null Count  Dtype \n",
      "---  ------         --------------  ----- \n",
      " 0   video_title    81 non-null     object\n",
      " 1   publish_date   81 non-null     object\n",
      " 2   duration       81 non-null     object\n",
      " 3   total_views    81 non-null     object\n",
      " 4   total_likes    81 non-null     object\n",
      " 5   total_comment  81 non-null     object\n",
      "dtypes: object(6)\n",
      "memory usage: 3.9+ KB\n"
     ]
    }
   ],
   "source": [
    "videos_table.info()"
   ]
  },
  {
   "cell_type": "code",
   "execution_count": 14,
   "metadata": {},
   "outputs": [
    {
     "data": {
      "text/html": [
       "<div>\n",
       "<style scoped>\n",
       "    .dataframe tbody tr th:only-of-type {\n",
       "        vertical-align: middle;\n",
       "    }\n",
       "\n",
       "    .dataframe tbody tr th {\n",
       "        vertical-align: top;\n",
       "    }\n",
       "\n",
       "    .dataframe thead th {\n",
       "        text-align: right;\n",
       "    }\n",
       "</style>\n",
       "<table border=\"1\" class=\"dataframe\">\n",
       "  <thead>\n",
       "    <tr style=\"text-align: right;\">\n",
       "      <th></th>\n",
       "      <th>video_title</th>\n",
       "      <th>publish_date</th>\n",
       "      <th>duration</th>\n",
       "      <th>total_views</th>\n",
       "      <th>total_likes</th>\n",
       "      <th>total_comment</th>\n",
       "    </tr>\n",
       "  </thead>\n",
       "  <tbody>\n",
       "    <tr>\n",
       "      <th>1</th>\n",
       "      <td>Meet Aman Dhattarwal | Episode 1</td>\n",
       "      <td>2022-05-25T07:04:17Z</td>\n",
       "      <td>PT26M30S</td>\n",
       "      <td>4785815</td>\n",
       "      <td>329711</td>\n",
       "      <td>12007</td>\n",
       "    </tr>\n",
       "    <tr>\n",
       "      <th>2</th>\n",
       "      <td>Meet Himanshi Singh | Episode 2</td>\n",
       "      <td>2022-06-01T08:03:10Z</td>\n",
       "      <td>PT23M1S</td>\n",
       "      <td>4341495</td>\n",
       "      <td>256433</td>\n",
       "      <td>7162</td>\n",
       "    </tr>\n",
       "    <tr>\n",
       "      <th>3</th>\n",
       "      <td>Meet Muddassir Khan | Founder of YeBook | Epis...</td>\n",
       "      <td>2022-06-08T12:30:11Z</td>\n",
       "      <td>PT20M46S</td>\n",
       "      <td>1660859</td>\n",
       "      <td>102423</td>\n",
       "      <td>4789</td>\n",
       "    </tr>\n",
       "    <tr>\n",
       "      <th>4</th>\n",
       "      <td>Meet MBA Chai Wala | Prafull Billore | Episode 4</td>\n",
       "      <td>2022-06-13T14:30:13Z</td>\n",
       "      <td>PT22M33S</td>\n",
       "      <td>12260590</td>\n",
       "      <td>777808</td>\n",
       "      <td>17324</td>\n",
       "    </tr>\n",
       "    <tr>\n",
       "      <th>5</th>\n",
       "      <td>Meet Vivek Mittal | Fit Tuber | Episode 5</td>\n",
       "      <td>2022-06-18T11:58:06Z</td>\n",
       "      <td>PT20M57S</td>\n",
       "      <td>2882346</td>\n",
       "      <td>158908</td>\n",
       "      <td>5198</td>\n",
       "    </tr>\n",
       "  </tbody>\n",
       "</table>\n",
       "</div>"
      ],
      "text/plain": [
       "                                         video_title          publish_date  \\\n",
       "1                   Meet Aman Dhattarwal | Episode 1  2022-05-25T07:04:17Z   \n",
       "2                    Meet Himanshi Singh | Episode 2  2022-06-01T08:03:10Z   \n",
       "3  Meet Muddassir Khan | Founder of YeBook | Epis...  2022-06-08T12:30:11Z   \n",
       "4   Meet MBA Chai Wala | Prafull Billore | Episode 4  2022-06-13T14:30:13Z   \n",
       "5          Meet Vivek Mittal | Fit Tuber | Episode 5  2022-06-18T11:58:06Z   \n",
       "\n",
       "   duration total_views total_likes total_comment  \n",
       "1  PT26M30S     4785815      329711         12007  \n",
       "2   PT23M1S     4341495      256433          7162  \n",
       "3  PT20M46S     1660859      102423          4789  \n",
       "4  PT22M33S    12260590      777808         17324  \n",
       "5  PT20M57S     2882346      158908          5198  "
      ]
     },
     "execution_count": 14,
     "metadata": {},
     "output_type": "execute_result"
    }
   ],
   "source": [
    "videos_table.head() # before"
   ]
  },
  {
   "cell_type": "markdown",
   "metadata": {},
   "source": [
    "### 3. Dtype Conversions"
   ]
  },
  {
   "cell_type": "markdown",
   "metadata": {},
   "source": [
    "### 3.1 Converting integers columns in int dtype"
   ]
  },
  {
   "cell_type": "code",
   "execution_count": 15,
   "metadata": {},
   "outputs": [],
   "source": [
    "\n",
    "int_cols = ['total_views', 'total_likes','total_comment']\n",
    "\n",
    "# converting integers columns in int dtype\n",
    "for col in int_cols : \n",
    "    videos_table[col] = videos_table[col].astype('int64')\n",
    "    "
   ]
  },
  {
   "cell_type": "markdown",
   "metadata": {},
   "source": [
    "### 3.2  Converting public date in to date time object : "
   ]
  },
  {
   "cell_type": "code",
   "execution_count": 16,
   "metadata": {},
   "outputs": [],
   "source": [
    "videos_table['publish_date'] = pd.to_datetime(videos_table['publish_date']).dt.date"
   ]
  },
  {
   "cell_type": "markdown",
   "metadata": {},
   "source": [
    "### 3.3 Converting duration column in to hour -minutes-sec"
   ]
  },
  {
   "cell_type": "code",
   "execution_count": 17,
   "metadata": {},
   "outputs": [],
   "source": [
    "from datetime import datetime\n",
    "    \n",
    "def convert_time(string) : \n",
    "    return datetime.strptime(string, \"%MM%SS\").time()\n",
    "    \n",
    "videos_table['duration'] = videos_table['duration'].str[2:].apply(convert_time)\n"
   ]
  },
  {
   "cell_type": "markdown",
   "metadata": {},
   "source": [
    "### 4.Cleaning video_title "
   ]
  },
  {
   "cell_type": "code",
   "execution_count": 18,
   "metadata": {},
   "outputs": [],
   "source": [
    "videos_table['Name'] = videos_table['video_title'].str.split('|',n = 1, expand = True)[0]\n",
    "videos_table['Name'] = videos_table['Name'].str.replace(\"Meet\",\"\").str.strip()\n",
    "\n",
    "videos_table = videos_table.reindex(columns=['video_title','Name','publish_date', 'duration', 'total_views', 'total_likes',\n",
    "       'total_comment'])"
   ]
  },
  {
   "cell_type": "code",
   "execution_count": 19,
   "metadata": {},
   "outputs": [
    {
     "name": "stdout",
     "output_type": "stream",
     "text": [
      "Cleaning is complete now !!!\n"
     ]
    },
    {
     "data": {
      "text/html": [
       "<div>\n",
       "<style scoped>\n",
       "    .dataframe tbody tr th:only-of-type {\n",
       "        vertical-align: middle;\n",
       "    }\n",
       "\n",
       "    .dataframe tbody tr th {\n",
       "        vertical-align: top;\n",
       "    }\n",
       "\n",
       "    .dataframe thead th {\n",
       "        text-align: right;\n",
       "    }\n",
       "</style>\n",
       "<table border=\"1\" class=\"dataframe\">\n",
       "  <thead>\n",
       "    <tr style=\"text-align: right;\">\n",
       "      <th></th>\n",
       "      <th>video_title</th>\n",
       "      <th>Name</th>\n",
       "      <th>publish_date</th>\n",
       "      <th>duration</th>\n",
       "      <th>total_views</th>\n",
       "      <th>total_likes</th>\n",
       "      <th>total_comment</th>\n",
       "    </tr>\n",
       "  </thead>\n",
       "  <tbody>\n",
       "    <tr>\n",
       "      <th>1</th>\n",
       "      <td>Meet Aman Dhattarwal | Episode 1</td>\n",
       "      <td>Aman Dhattarwal</td>\n",
       "      <td>2022-05-25</td>\n",
       "      <td>00:26:30</td>\n",
       "      <td>4785815</td>\n",
       "      <td>329711</td>\n",
       "      <td>12007</td>\n",
       "    </tr>\n",
       "    <tr>\n",
       "      <th>2</th>\n",
       "      <td>Meet Himanshi Singh | Episode 2</td>\n",
       "      <td>Himanshi Singh</td>\n",
       "      <td>2022-06-01</td>\n",
       "      <td>00:23:01</td>\n",
       "      <td>4341495</td>\n",
       "      <td>256433</td>\n",
       "      <td>7162</td>\n",
       "    </tr>\n",
       "    <tr>\n",
       "      <th>3</th>\n",
       "      <td>Meet Muddassir Khan | Founder of YeBook | Epis...</td>\n",
       "      <td>Muddassir Khan</td>\n",
       "      <td>2022-06-08</td>\n",
       "      <td>00:20:46</td>\n",
       "      <td>1660859</td>\n",
       "      <td>102423</td>\n",
       "      <td>4789</td>\n",
       "    </tr>\n",
       "    <tr>\n",
       "      <th>4</th>\n",
       "      <td>Meet MBA Chai Wala | Prafull Billore | Episode 4</td>\n",
       "      <td>MBA Chai Wala</td>\n",
       "      <td>2022-06-13</td>\n",
       "      <td>00:22:33</td>\n",
       "      <td>12260590</td>\n",
       "      <td>777808</td>\n",
       "      <td>17324</td>\n",
       "    </tr>\n",
       "    <tr>\n",
       "      <th>5</th>\n",
       "      <td>Meet Vivek Mittal | Fit Tuber | Episode 5</td>\n",
       "      <td>Vivek Mittal</td>\n",
       "      <td>2022-06-18</td>\n",
       "      <td>00:20:57</td>\n",
       "      <td>2882346</td>\n",
       "      <td>158908</td>\n",
       "      <td>5198</td>\n",
       "    </tr>\n",
       "  </tbody>\n",
       "</table>\n",
       "</div>"
      ],
      "text/plain": [
       "                                         video_title             Name  \\\n",
       "1                   Meet Aman Dhattarwal | Episode 1  Aman Dhattarwal   \n",
       "2                    Meet Himanshi Singh | Episode 2   Himanshi Singh   \n",
       "3  Meet Muddassir Khan | Founder of YeBook | Epis...   Muddassir Khan   \n",
       "4   Meet MBA Chai Wala | Prafull Billore | Episode 4    MBA Chai Wala   \n",
       "5          Meet Vivek Mittal | Fit Tuber | Episode 5     Vivek Mittal   \n",
       "\n",
       "  publish_date  duration  total_views  total_likes  total_comment  \n",
       "1   2022-05-25  00:26:30      4785815       329711          12007  \n",
       "2   2022-06-01  00:23:01      4341495       256433           7162  \n",
       "3   2022-06-08  00:20:46      1660859       102423           4789  \n",
       "4   2022-06-13  00:22:33     12260590       777808          17324  \n",
       "5   2022-06-18  00:20:57      2882346       158908           5198  "
      ]
     },
     "execution_count": 19,
     "metadata": {},
     "output_type": "execute_result"
    }
   ],
   "source": [
    "\n",
    "print('Cleaning is complete now !!!')\n",
    "videos_table.head()"
   ]
  },
  {
   "cell_type": "markdown",
   "metadata": {},
   "source": [
    "### Saving the file to .csv : "
   ]
  },
  {
   "cell_type": "code",
   "execution_count": 20,
   "metadata": {},
   "outputs": [],
   "source": [
    "videos_table.to_csv('sm_playlist_videos.csv',index= False)"
   ]
  },
  {
   "cell_type": "markdown",
   "metadata": {},
   "source": [
    "### Final Dataset is ready to get analyse : "
   ]
  },
  {
   "cell_type": "code",
   "execution_count": 22,
   "metadata": {},
   "outputs": [
    {
     "data": {
      "text/html": [
       "<div>\n",
       "<style scoped>\n",
       "    .dataframe tbody tr th:only-of-type {\n",
       "        vertical-align: middle;\n",
       "    }\n",
       "\n",
       "    .dataframe tbody tr th {\n",
       "        vertical-align: top;\n",
       "    }\n",
       "\n",
       "    .dataframe thead th {\n",
       "        text-align: right;\n",
       "    }\n",
       "</style>\n",
       "<table border=\"1\" class=\"dataframe\">\n",
       "  <thead>\n",
       "    <tr style=\"text-align: right;\">\n",
       "      <th></th>\n",
       "      <th>video_title</th>\n",
       "      <th>Name</th>\n",
       "      <th>publish_date</th>\n",
       "      <th>duration</th>\n",
       "      <th>total_views</th>\n",
       "      <th>total_likes</th>\n",
       "      <th>total_comment</th>\n",
       "    </tr>\n",
       "  </thead>\n",
       "  <tbody>\n",
       "    <tr>\n",
       "      <th>1</th>\n",
       "      <td>Meet Aman Dhattarwal | Episode 1</td>\n",
       "      <td>Aman Dhattarwal</td>\n",
       "      <td>2022-05-25</td>\n",
       "      <td>00:26:30</td>\n",
       "      <td>4785815</td>\n",
       "      <td>329711</td>\n",
       "      <td>12007</td>\n",
       "    </tr>\n",
       "    <tr>\n",
       "      <th>2</th>\n",
       "      <td>Meet Himanshi Singh | Episode 2</td>\n",
       "      <td>Himanshi Singh</td>\n",
       "      <td>2022-06-01</td>\n",
       "      <td>00:23:01</td>\n",
       "      <td>4341495</td>\n",
       "      <td>256433</td>\n",
       "      <td>7162</td>\n",
       "    </tr>\n",
       "    <tr>\n",
       "      <th>3</th>\n",
       "      <td>Meet Muddassir Khan | Founder of YeBook | Epis...</td>\n",
       "      <td>Muddassir Khan</td>\n",
       "      <td>2022-06-08</td>\n",
       "      <td>00:20:46</td>\n",
       "      <td>1660859</td>\n",
       "      <td>102423</td>\n",
       "      <td>4789</td>\n",
       "    </tr>\n",
       "    <tr>\n",
       "      <th>4</th>\n",
       "      <td>Meet MBA Chai Wala | Prafull Billore | Episode 4</td>\n",
       "      <td>MBA Chai Wala</td>\n",
       "      <td>2022-06-13</td>\n",
       "      <td>00:22:33</td>\n",
       "      <td>12260590</td>\n",
       "      <td>777808</td>\n",
       "      <td>17324</td>\n",
       "    </tr>\n",
       "    <tr>\n",
       "      <th>5</th>\n",
       "      <td>Meet Vivek Mittal | Fit Tuber | Episode 5</td>\n",
       "      <td>Vivek Mittal</td>\n",
       "      <td>2022-06-18</td>\n",
       "      <td>00:20:57</td>\n",
       "      <td>2882346</td>\n",
       "      <td>158908</td>\n",
       "      <td>5198</td>\n",
       "    </tr>\n",
       "    <tr>\n",
       "      <th>...</th>\n",
       "      <td>...</td>\n",
       "      <td>...</td>\n",
       "      <td>...</td>\n",
       "      <td>...</td>\n",
       "      <td>...</td>\n",
       "      <td>...</td>\n",
       "      <td>...</td>\n",
       "    </tr>\n",
       "    <tr>\n",
       "      <th>77</th>\n",
       "      <td>Meet Ridhima Arora Namhya Foods Founder | Epis...</td>\n",
       "      <td>Ridhima Arora Namhya Foods Founder</td>\n",
       "      <td>2023-01-10</td>\n",
       "      <td>00:17:20</td>\n",
       "      <td>730348</td>\n",
       "      <td>35226</td>\n",
       "      <td>2471</td>\n",
       "    </tr>\n",
       "    <tr>\n",
       "      <th>78</th>\n",
       "      <td>Meet Shradha Sharma YourStory Founder | Episod...</td>\n",
       "      <td>Shradha Sharma YourStory Founder</td>\n",
       "      <td>2023-01-12</td>\n",
       "      <td>00:21:55</td>\n",
       "      <td>597991</td>\n",
       "      <td>33351</td>\n",
       "      <td>2620</td>\n",
       "    </tr>\n",
       "    <tr>\n",
       "      <th>79</th>\n",
       "      <td>Meet Entrepreneur Pramod Raj Shukla | Episode 79</td>\n",
       "      <td>Entrepreneur Pramod Raj Shukla</td>\n",
       "      <td>2023-01-16</td>\n",
       "      <td>00:22:16</td>\n",
       "      <td>522231</td>\n",
       "      <td>27875</td>\n",
       "      <td>4796</td>\n",
       "    </tr>\n",
       "    <tr>\n",
       "      <th>80</th>\n",
       "      <td>Meet Groww Founder Lalit Keshre | Episode 80</td>\n",
       "      <td>Groww Founder Lalit Keshre</td>\n",
       "      <td>2023-01-19</td>\n",
       "      <td>00:16:45</td>\n",
       "      <td>605815</td>\n",
       "      <td>32431</td>\n",
       "      <td>3840</td>\n",
       "    </tr>\n",
       "    <tr>\n",
       "      <th>81</th>\n",
       "      <td>Meet Raft Motors Founders | Episode 81</td>\n",
       "      <td>Raft Motors Founders</td>\n",
       "      <td>2023-01-25</td>\n",
       "      <td>00:26:29</td>\n",
       "      <td>371269</td>\n",
       "      <td>20934</td>\n",
       "      <td>2787</td>\n",
       "    </tr>\n",
       "  </tbody>\n",
       "</table>\n",
       "<p>81 rows × 7 columns</p>\n",
       "</div>"
      ],
      "text/plain": [
       "                                          video_title  \\\n",
       "1                    Meet Aman Dhattarwal | Episode 1   \n",
       "2                     Meet Himanshi Singh | Episode 2   \n",
       "3   Meet Muddassir Khan | Founder of YeBook | Epis...   \n",
       "4    Meet MBA Chai Wala | Prafull Billore | Episode 4   \n",
       "5           Meet Vivek Mittal | Fit Tuber | Episode 5   \n",
       "..                                                ...   \n",
       "77  Meet Ridhima Arora Namhya Foods Founder | Epis...   \n",
       "78  Meet Shradha Sharma YourStory Founder | Episod...   \n",
       "79   Meet Entrepreneur Pramod Raj Shukla | Episode 79   \n",
       "80       Meet Groww Founder Lalit Keshre | Episode 80   \n",
       "81             Meet Raft Motors Founders | Episode 81   \n",
       "\n",
       "                                  Name publish_date  duration  total_views  \\\n",
       "1                      Aman Dhattarwal   2022-05-25  00:26:30      4785815   \n",
       "2                       Himanshi Singh   2022-06-01  00:23:01      4341495   \n",
       "3                       Muddassir Khan   2022-06-08  00:20:46      1660859   \n",
       "4                        MBA Chai Wala   2022-06-13  00:22:33     12260590   \n",
       "5                         Vivek Mittal   2022-06-18  00:20:57      2882346   \n",
       "..                                 ...          ...       ...          ...   \n",
       "77  Ridhima Arora Namhya Foods Founder   2023-01-10  00:17:20       730348   \n",
       "78    Shradha Sharma YourStory Founder   2023-01-12  00:21:55       597991   \n",
       "79      Entrepreneur Pramod Raj Shukla   2023-01-16  00:22:16       522231   \n",
       "80          Groww Founder Lalit Keshre   2023-01-19  00:16:45       605815   \n",
       "81                Raft Motors Founders   2023-01-25  00:26:29       371269   \n",
       "\n",
       "    total_likes  total_comment  \n",
       "1        329711          12007  \n",
       "2        256433           7162  \n",
       "3        102423           4789  \n",
       "4        777808          17324  \n",
       "5        158908           5198  \n",
       "..          ...            ...  \n",
       "77        35226           2471  \n",
       "78        33351           2620  \n",
       "79        27875           4796  \n",
       "80        32431           3840  \n",
       "81        20934           2787  \n",
       "\n",
       "[81 rows x 7 columns]"
      ]
     },
     "execution_count": 22,
     "metadata": {},
     "output_type": "execute_result"
    }
   ],
   "source": [
    "videos_table"
   ]
  }
 ],
 "metadata": {
  "kernelspec": {
   "display_name": "Python 3 (ipykernel)",
   "language": "python",
   "name": "python3"
  },
  "language_info": {
   "codemirror_mode": {
    "name": "ipython",
    "version": 3
   },
   "file_extension": ".py",
   "mimetype": "text/x-python",
   "name": "python",
   "nbconvert_exporter": "python",
   "pygments_lexer": "ipython3",
   "version": "3.9.13"
  }
 },
 "nbformat": 4,
 "nbformat_minor": 4
}
